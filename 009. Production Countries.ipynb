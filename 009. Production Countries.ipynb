{
 "cells": [
  {
   "cell_type": "code",
   "execution_count": 1,
   "metadata": {},
   "outputs": [],
   "source": [
    "import requests\n",
    "import pandas as pd"
   ]
  },
  {
   "cell_type": "code",
   "execution_count": 2,
   "metadata": {},
   "outputs": [],
   "source": [
    "baseUrl = \"https://api.themoviedb.org/\"\n",
    "apiKey = \"API-KEY\"\n",
    "movieRequestRoute = \"3/movie/\""
   ]
  },
  {
   "cell_type": "code",
   "execution_count": 3,
   "metadata": {},
   "outputs": [
    {
     "data": {
      "text/html": [
       "<div>\n",
       "<style scoped>\n",
       "    .dataframe tbody tr th:only-of-type {\n",
       "        vertical-align: middle;\n",
       "    }\n",
       "\n",
       "    .dataframe tbody tr th {\n",
       "        vertical-align: top;\n",
       "    }\n",
       "\n",
       "    .dataframe thead th {\n",
       "        text-align: right;\n",
       "    }\n",
       "</style>\n",
       "<table border=\"1\" class=\"dataframe\">\n",
       "  <thead>\n",
       "    <tr style=\"text-align: right;\">\n",
       "      <th></th>\n",
       "      <th>NAME</th>\n",
       "      <th>MINISERIES</th>\n",
       "      <th>PATREON</th>\n",
       "      <th>NONDIRECTOR</th>\n",
       "      <th>RELEASEDATE</th>\n",
       "      <th>BUDGET</th>\n",
       "      <th>REVENUE</th>\n",
       "      <th>RUNTIME</th>\n",
       "      <th>MINISERIESNAME</th>\n",
       "    </tr>\n",
       "    <tr>\n",
       "      <th>CODE</th>\n",
       "      <th></th>\n",
       "      <th></th>\n",
       "      <th></th>\n",
       "      <th></th>\n",
       "      <th></th>\n",
       "      <th></th>\n",
       "      <th></th>\n",
       "      <th></th>\n",
       "      <th></th>\n",
       "    </tr>\n",
       "  </thead>\n",
       "  <tbody>\n",
       "    <tr>\n",
       "      <th>1893</th>\n",
       "      <td>Star Wars: Episode I - The Phantom Menace</td>\n",
       "      <td>STARWARS</td>\n",
       "      <td>False</td>\n",
       "      <td>NaN</td>\n",
       "      <td>1999-05-19</td>\n",
       "      <td>115000000</td>\n",
       "      <td>924317558</td>\n",
       "      <td>136.0</td>\n",
       "      <td>Star Wars</td>\n",
       "    </tr>\n",
       "    <tr>\n",
       "      <th>205587</th>\n",
       "      <td>The Judge</td>\n",
       "      <td>JUDGE</td>\n",
       "      <td>False</td>\n",
       "      <td>NaN</td>\n",
       "      <td>2014-10-08</td>\n",
       "      <td>50000000</td>\n",
       "      <td>83719388</td>\n",
       "      <td>141.0</td>\n",
       "      <td>Judging the Judge</td>\n",
       "    </tr>\n",
       "    <tr>\n",
       "      <th>1894</th>\n",
       "      <td>Star Wars: Episode II - Attack of the Clones</td>\n",
       "      <td>STARWARS</td>\n",
       "      <td>False</td>\n",
       "      <td>NaN</td>\n",
       "      <td>2002-05-15</td>\n",
       "      <td>120000000</td>\n",
       "      <td>649398328</td>\n",
       "      <td>142.0</td>\n",
       "      <td>Star Wars</td>\n",
       "    </tr>\n",
       "    <tr>\n",
       "      <th>22059</th>\n",
       "      <td>The Fantastic Four</td>\n",
       "      <td>FANTASTICFOUR</td>\n",
       "      <td>False</td>\n",
       "      <td>NaN</td>\n",
       "      <td>1994-01-01</td>\n",
       "      <td>1500000</td>\n",
       "      <td>0</td>\n",
       "      <td>90.0</td>\n",
       "      <td>The Podcastic Two</td>\n",
       "    </tr>\n",
       "    <tr>\n",
       "      <th>9738</th>\n",
       "      <td>Fantastic Four</td>\n",
       "      <td>FANTASTICFOUR</td>\n",
       "      <td>False</td>\n",
       "      <td>NaN</td>\n",
       "      <td>2005-06-29</td>\n",
       "      <td>100000000</td>\n",
       "      <td>330579719</td>\n",
       "      <td>106.0</td>\n",
       "      <td>The Podcastic Two</td>\n",
       "    </tr>\n",
       "  </tbody>\n",
       "</table>\n",
       "</div>"
      ],
      "text/plain": [
       "                                                NAME     MINISERIES  PATREON  \\\n",
       "CODE                                                                           \n",
       "1893       Star Wars: Episode I - The Phantom Menace       STARWARS    False   \n",
       "205587                                     The Judge          JUDGE    False   \n",
       "1894    Star Wars: Episode II - Attack of the Clones       STARWARS    False   \n",
       "22059                             The Fantastic Four  FANTASTICFOUR    False   \n",
       "9738                                  Fantastic Four  FANTASTICFOUR    False   \n",
       "\n",
       "        NONDIRECTOR RELEASEDATE     BUDGET    REVENUE  RUNTIME  \\\n",
       "CODE                                                             \n",
       "1893            NaN  1999-05-19  115000000  924317558    136.0   \n",
       "205587          NaN  2014-10-08   50000000   83719388    141.0   \n",
       "1894            NaN  2002-05-15  120000000  649398328    142.0   \n",
       "22059           NaN  1994-01-01    1500000          0     90.0   \n",
       "9738            NaN  2005-06-29  100000000  330579719    106.0   \n",
       "\n",
       "           MINISERIESNAME  \n",
       "CODE                       \n",
       "1893            Star Wars  \n",
       "205587  Judging the Judge  \n",
       "1894            Star Wars  \n",
       "22059   The Podcastic Two  \n",
       "9738    The Podcastic Two  "
      ]
     },
     "execution_count": 3,
     "metadata": {},
     "output_type": "execute_result"
    }
   ],
   "source": [
    "xl = pd.read_excel('blank-check-data.xlsx', sheet_name=None, index_col='CODE')\n",
    "df_miniseries = xl['MINISERIES']\n",
    "df_films = xl['FILMS']\n",
    "df_films.head()"
   ]
  },
  {
   "cell_type": "code",
   "execution_count": 4,
   "metadata": {},
   "outputs": [],
   "source": [
    "def getMovieByExternalId(externalId) :\n",
    "    url = baseUrl + movieRequestRoute + str(externalId) + \"?api_key=\" + apiKey\n",
    "    print(\"getting info for film with externalId:\", externalId)\n",
    "    r = requests.get(url)\n",
    "    return r.json()"
   ]
  },
  {
   "cell_type": "code",
   "execution_count": 5,
   "metadata": {},
   "outputs": [],
   "source": [
    "def getProductionCountries(film):\n",
    "    return film['production_countries']"
   ]
  },
  {
   "cell_type": "code",
   "execution_count": 6,
   "metadata": {},
   "outputs": [
    {
     "name": "stdout",
     "output_type": "stream",
     "text": [
      "getting info for film with externalId: 1893\n"
     ]
    },
    {
     "ename": "KeyError",
     "evalue": "'production_countries'",
     "output_type": "error",
     "traceback": [
      "\u001b[1;31m---------------------------------------------------------------------------\u001b[0m",
      "\u001b[1;31mKeyError\u001b[0m                                  Traceback (most recent call last)",
      "\u001b[1;32m<ipython-input-6-faed0ab87f5c>\u001b[0m in \u001b[0;36m<module>\u001b[1;34m\u001b[0m\n\u001b[0;32m      8\u001b[0m     \u001b[0mpatreon\u001b[0m \u001b[1;33m=\u001b[0m \u001b[0mval\u001b[0m\u001b[1;33m[\u001b[0m\u001b[1;34m'PATREON'\u001b[0m\u001b[1;33m]\u001b[0m\u001b[1;33m\u001b[0m\u001b[1;33m\u001b[0m\u001b[0m\n\u001b[0;32m      9\u001b[0m \u001b[1;33m\u001b[0m\u001b[0m\n\u001b[1;32m---> 10\u001b[1;33m     \u001b[1;32mfor\u001b[0m \u001b[0mcountry\u001b[0m \u001b[1;32min\u001b[0m \u001b[0mgetProductionCountries\u001b[0m\u001b[1;33m(\u001b[0m\u001b[0mfilm\u001b[0m\u001b[1;33m)\u001b[0m\u001b[1;33m:\u001b[0m\u001b[1;33m\u001b[0m\u001b[1;33m\u001b[0m\u001b[0m\n\u001b[0m\u001b[0;32m     11\u001b[0m         films_production_countries.append({\n\u001b[0;32m     12\u001b[0m             \u001b[1;34m'ISO_CODE'\u001b[0m\u001b[1;33m:\u001b[0m \u001b[0mcountry\u001b[0m\u001b[1;33m[\u001b[0m\u001b[1;34m'iso_3166_1'\u001b[0m\u001b[1;33m]\u001b[0m\u001b[1;33m,\u001b[0m\u001b[1;33m\u001b[0m\u001b[1;33m\u001b[0m\u001b[0m\n",
      "\u001b[1;32m<ipython-input-5-531254d14dad>\u001b[0m in \u001b[0;36mgetProductionCountries\u001b[1;34m(film)\u001b[0m\n\u001b[0;32m      1\u001b[0m \u001b[1;32mdef\u001b[0m \u001b[0mgetProductionCountries\u001b[0m\u001b[1;33m(\u001b[0m\u001b[0mfilm\u001b[0m\u001b[1;33m)\u001b[0m\u001b[1;33m:\u001b[0m\u001b[1;33m\u001b[0m\u001b[1;33m\u001b[0m\u001b[0m\n\u001b[1;32m----> 2\u001b[1;33m     \u001b[1;32mreturn\u001b[0m \u001b[0mfilm\u001b[0m\u001b[1;33m[\u001b[0m\u001b[1;34m'production_countries'\u001b[0m\u001b[1;33m]\u001b[0m\u001b[1;33m\u001b[0m\u001b[1;33m\u001b[0m\u001b[0m\n\u001b[0m",
      "\u001b[1;31mKeyError\u001b[0m: 'production_countries'"
     ]
    }
   ],
   "source": [
    "films_production_countries = []\n",
    "\n",
    "for (i, val) in df_films.iterrows():\n",
    "    film = getMovieByExternalId(i)\n",
    "    \n",
    "    miniseriesName = df_miniseries.loc[val['MINISERIES'],'NAME']\n",
    "    filmName = val['NAME']\n",
    "    patreon = val['PATREON']\n",
    "    \n",
    "    for country in getProductionCountries(film):\n",
    "        films_production_countries.append({\n",
    "            'ISO_CODE': country['iso_3166_1'],\n",
    "            'COUNTRY': country['name'],\n",
    "            'FILM': filmName,\n",
    "            'MINISERIES': miniseriesName,\n",
    "            'PATREON': patreon\n",
    "        })\n",
    "\n",
    "df_films_production_countries = pd.DataFrame(films_production_countries)\n",
    "df_films_production_countries.head()"
   ]
  },
  {
   "cell_type": "code",
   "execution_count": null,
   "metadata": {},
   "outputs": [],
   "source": [
    "import matplotlib.pyplot as plt\n",
    "\n",
    "count_by_country = [{'COUNTRY': country, 'FILMCOUNT': len(film_group), 'FILMS': [film['FILM'] for index, film in film_group.iterrows()], 'CODE': film_group.iloc[0]['ISO_CODE']} for country, film_group in df_films_production_countries.groupby(['COUNTRY'])]\n",
    "df_count_by_country = pd.DataFrame(count_by_country).sort_values('FILMCOUNT', ascending=False)\n",
    "df_count_by_country.head()"
   ]
  },
  {
   "cell_type": "code",
   "execution_count": null,
   "metadata": {},
   "outputs": [],
   "source": [
    "print(\"Film count\", len(df_films))\n",
    "print(\"Country count:\", len(df_count_by_country))"
   ]
  },
  {
   "cell_type": "code",
   "execution_count": null,
   "metadata": {},
   "outputs": [],
   "source": [
    "df_count_by_country.plot(kind='bar', y='FILMCOUNT', x='COUNTRY')\n",
    "plt.show()"
   ]
  },
  {
   "cell_type": "code",
   "execution_count": null,
   "metadata": {},
   "outputs": [],
   "source": [
    "for key, country in df_count_by_country.iterrows():\n",
    "    print(\"**\" + str(country['FILMCOUNT']) + \"**. *\" + country['COUNTRY'] + \"*  \")\n",
    "    filmNames = \", \".join(country['FILMS'][:25])\n",
    "    if len(country['FILMS']) > 25:\n",
    "        filmNames += \",...\"\n",
    "    print(filmNames + \"  \")"
   ]
  },
  {
   "cell_type": "code",
   "execution_count": null,
   "metadata": {},
   "outputs": [],
   "source": [
    "import folium\n",
    "url = 'https://raw.githubusercontent.com/python-visualization/folium/master/examples/data'\n",
    "countries_geo = f'{url}/world-countries.json'\n",
    "\n",
    "bins = list(df_count_by_country['FILMCOUNT'].quantile([0, 0.25, 0.5, 0.75, 1]))\n",
    "\n",
    "m = folium.Map(location=[0, 0], zoom_start=2)\n",
    "\n",
    "folium.Choropleth(\n",
    "    geo_data=countries_geo,\n",
    "    name='choropleth',\n",
    "    data=df_count_by_country,\n",
    "    columns=['COUNTRY', 'FILMCOUNT'],\n",
    "    key_on='feature.properties.name',\n",
    "    fill_color='YlGn',\n",
    "    nan_fill_color='white',\n",
    "    fill_opacity=0.7,\n",
    "    line_opacity=0.2,\n",
    "    bins=bins,\n",
    "    #legend_name='# FILMS'\n",
    ").add_to(m)\n",
    "folium.LayerControl().add_to(m)\n",
    "\n",
    "m"
   ]
  },
  {
   "cell_type": "code",
   "execution_count": null,
   "metadata": {},
   "outputs": [],
   "source": []
  },
  {
   "cell_type": "code",
   "execution_count": null,
   "metadata": {},
   "outputs": [],
   "source": []
  }
 ],
 "metadata": {
  "kernelspec": {
   "display_name": "Python 3",
   "language": "python",
   "name": "python3"
  },
  "language_info": {
   "codemirror_mode": {
    "name": "ipython",
    "version": 3
   },
   "file_extension": ".py",
   "mimetype": "text/x-python",
   "name": "python",
   "nbconvert_exporter": "python",
   "pygments_lexer": "ipython3",
   "version": "3.7.3"
  }
 },
 "nbformat": 4,
 "nbformat_minor": 2
}
