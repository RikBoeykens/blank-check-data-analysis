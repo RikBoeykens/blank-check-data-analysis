{
 "cells": [
  {
   "cell_type": "markdown",
   "metadata": {},
   "source": [
    "# Download film info"
   ]
  },
  {
   "cell_type": "markdown",
   "metadata": {},
   "source": [
    "imports"
   ]
  },
  {
   "cell_type": "code",
   "execution_count": 1,
   "metadata": {},
   "outputs": [],
   "source": [
    "import requests\n",
    "import pandas as pd\n",
    "import numpy as np"
   ]
  },
  {
   "cell_type": "markdown",
   "metadata": {},
   "source": [
    "set variables for api calls"
   ]
  },
  {
   "cell_type": "code",
   "execution_count": 2,
   "metadata": {},
   "outputs": [],
   "source": [
    "baseUrl = \"https://api.themoviedb.org/\"\n",
    "apiKey = \"API_KEY\"\n",
    "movieRequestRoute = \"3/movie/\"\n",
    "appendToResponse = \"append_to_response=credits\""
   ]
  },
  {
   "cell_type": "markdown",
   "metadata": {},
   "source": [
    "get movie by external Id function"
   ]
  },
  {
   "cell_type": "code",
   "execution_count": 3,
   "metadata": {},
   "outputs": [],
   "source": [
    "def getMovieByExternalId(externalId) :\n",
    "    url = baseUrl + movieRequestRoute + str(externalId) + \"?api_key=\" + apiKey + \"&\" + appendToResponse\n",
    "    print(\"getting info for url: \" + url)\n",
    "    r = requests.get(url)\n",
    "    return r.json()"
   ]
  },
  {
   "cell_type": "markdown",
   "metadata": {},
   "source": [
    "load film data from excel"
   ]
  },
  {
   "cell_type": "code",
   "execution_count": 4,
   "metadata": {},
   "outputs": [],
   "source": [
    "xl = pd.read_excel('blank-check-data.xlsx', sheet_name=None, index_col='CODE')\n",
    "df_films = xl['FILMS']\n",
    "df_miniseries = xl['MINISERIES']"
   ]
  },
  {
   "cell_type": "markdown",
   "metadata": {},
   "source": [
    "iterate over dataframe and get all film data"
   ]
  },
  {
   "cell_type": "code",
   "execution_count": 5,
   "metadata": {},
   "outputs": [
    {
     "name": "stdout",
     "output_type": "stream",
     "text": [
      "getting info for url: https://api.themoviedb.org/3/movie/1893?api_key=cc37499b567edef6d7fad0608ea992c5&append_to_response=credits\n",
      "getting info for url: https://api.themoviedb.org/3/movie/205587?api_key=cc37499b567edef6d7fad0608ea992c5&append_to_response=credits\n",
      "getting info for url: https://api.themoviedb.org/3/movie/1894?api_key=cc37499b567edef6d7fad0608ea992c5&append_to_response=credits\n",
      "getting info for url: https://api.themoviedb.org/3/movie/22059?api_key=cc37499b567edef6d7fad0608ea992c5&append_to_response=credits\n",
      "getting info for url: https://api.themoviedb.org/3/movie/9738?api_key=cc37499b567edef6d7fad0608ea992c5&append_to_response=credits\n",
      "getting info for url: https://api.themoviedb.org/3/movie/1979?api_key=cc37499b567edef6d7fad0608ea992c5&append_to_response=credits\n",
      "getting info for url: https://api.themoviedb.org/3/movie/166424?api_key=cc37499b567edef6d7fad0608ea992c5&append_to_response=credits\n",
      "getting info for url: https://api.themoviedb.org/3/movie/1895?api_key=cc37499b567edef6d7fad0608ea992c5&append_to_response=credits\n",
      "getting info for url: https://api.themoviedb.org/3/movie/11?api_key=cc37499b567edef6d7fad0608ea992c5&append_to_response=credits\n",
      "getting info for url: https://api.themoviedb.org/3/movie/1891?api_key=cc37499b567edef6d7fad0608ea992c5&append_to_response=credits\n",
      "getting info for url: https://api.themoviedb.org/3/movie/1892?api_key=cc37499b567edef6d7fad0608ea992c5&append_to_response=credits\n",
      "getting info for url: https://api.themoviedb.org/3/movie/140607?api_key=cc37499b567edef6d7fad0608ea992c5&append_to_response=credits\n",
      "getting info for url: https://api.themoviedb.org/3/movie/114284?api_key=cc37499b567edef6d7fad0608ea992c5&append_to_response=credits\n",
      "getting info for url: https://api.themoviedb.org/3/movie/32911?api_key=cc37499b567edef6d7fad0608ea992c5&append_to_response=credits\n",
      "getting info for url: https://api.themoviedb.org/3/movie/745?api_key=cc37499b567edef6d7fad0608ea992c5&append_to_response=credits\n",
      "getting info for url: https://api.themoviedb.org/3/movie/9741?api_key=cc37499b567edef6d7fad0608ea992c5&append_to_response=credits\n",
      "getting info for url: https://api.themoviedb.org/3/movie/2675?api_key=cc37499b567edef6d7fad0608ea992c5&append_to_response=credits\n",
      "getting info for url: https://api.themoviedb.org/3/movie/6947?api_key=cc37499b567edef6d7fad0608ea992c5&append_to_response=credits\n",
      "getting info for url: https://api.themoviedb.org/3/movie/9697?api_key=cc37499b567edef6d7fad0608ea992c5&append_to_response=credits\n",
      "getting info for url: https://api.themoviedb.org/3/movie/8645?api_key=cc37499b567edef6d7fad0608ea992c5&append_to_response=credits\n",
      "getting info for url: https://api.themoviedb.org/3/movie/10196?api_key=cc37499b567edef6d7fad0608ea992c5&append_to_response=credits\n",
      "getting info for url: https://api.themoviedb.org/3/movie/82700?api_key=cc37499b567edef6d7fad0608ea992c5&append_to_response=credits\n",
      "getting info for url: https://api.themoviedb.org/3/movie/298312?api_key=cc37499b567edef6d7fad0608ea992c5&append_to_response=credits\n",
      "getting info for url: https://api.themoviedb.org/3/movie/60394?api_key=cc37499b567edef6d7fad0608ea992c5&append_to_response=credits\n",
      "getting info for url: https://api.themoviedb.org/3/movie/9303?api_key=cc37499b567edef6d7fad0608ea992c5&append_to_response=credits\n",
      "getting info for url: https://api.themoviedb.org/3/movie/209112?api_key=cc37499b567edef6d7fad0608ea992c5&append_to_response=credits\n",
      "getting info for url: https://api.themoviedb.org/3/movie/603?api_key=cc37499b567edef6d7fad0608ea992c5&append_to_response=credits\n",
      "getting info for url: https://api.themoviedb.org/3/movie/604?api_key=cc37499b567edef6d7fad0608ea992c5&append_to_response=credits\n",
      "getting info for url: https://api.themoviedb.org/3/movie/605?api_key=cc37499b567edef6d7fad0608ea992c5&append_to_response=credits\n",
      "getting info for url: https://api.themoviedb.org/3/movie/7459?api_key=cc37499b567edef6d7fad0608ea992c5&append_to_response=credits\n",
      "getting info for url: https://api.themoviedb.org/3/movie/83542?api_key=cc37499b567edef6d7fad0608ea992c5&append_to_response=credits\n",
      "getting info for url: https://api.themoviedb.org/3/movie/76757?api_key=cc37499b567edef6d7fad0608ea992c5&append_to_response=credits\n",
      "getting info for url: https://api.themoviedb.org/3/movie/55931?api_key=cc37499b567edef6d7fad0608ea992c5&append_to_response=credits\n",
      "getting info for url: https://api.themoviedb.org/3/movie/9749?api_key=cc37499b567edef6d7fad0608ea992c5&append_to_response=credits\n",
      "getting info for url: https://api.themoviedb.org/3/movie/2028?api_key=cc37499b567edef6d7fad0608ea992c5&append_to_response=credits\n",
      "getting info for url: https://api.themoviedb.org/3/movie/11068?api_key=cc37499b567edef6d7fad0608ea992c5&append_to_response=credits\n",
      "getting info for url: https://api.themoviedb.org/3/movie/9390?api_key=cc37499b567edef6d7fad0608ea992c5&append_to_response=credits\n",
      "getting info for url: https://api.themoviedb.org/3/movie/786?api_key=cc37499b567edef6d7fad0608ea992c5&append_to_response=credits\n",
      "getting info for url: https://api.themoviedb.org/3/movie/1903?api_key=cc37499b567edef6d7fad0608ea992c5&append_to_response=credits\n",
      "getting info for url: https://api.themoviedb.org/3/movie/297761?api_key=cc37499b567edef6d7fad0608ea992c5&append_to_response=credits\n",
      "getting info for url: https://api.themoviedb.org/3/movie/9621?api_key=cc37499b567edef6d7fad0608ea992c5&append_to_response=credits\n",
      "getting info for url: https://api.themoviedb.org/3/movie/74465?api_key=cc37499b567edef6d7fad0608ea992c5&append_to_response=credits\n",
      "getting info for url: https://api.themoviedb.org/3/movie/222936?api_key=cc37499b567edef6d7fad0608ea992c5&append_to_response=credits\n",
      "getting info for url: https://api.themoviedb.org/3/movie/3512?api_key=cc37499b567edef6d7fad0608ea992c5&append_to_response=credits\n",
      "getting info for url: https://api.themoviedb.org/3/movie/31646?api_key=cc37499b567edef6d7fad0608ea992c5&append_to_response=credits\n",
      "getting info for url: https://api.themoviedb.org/3/movie/218?api_key=cc37499b567edef6d7fad0608ea992c5&append_to_response=credits\n",
      "getting info for url: https://api.themoviedb.org/3/movie/679?api_key=cc37499b567edef6d7fad0608ea992c5&append_to_response=credits\n",
      "getting info for url: https://api.themoviedb.org/3/movie/2756?api_key=cc37499b567edef6d7fad0608ea992c5&append_to_response=credits\n",
      "getting info for url: https://api.themoviedb.org/3/movie/280?api_key=cc37499b567edef6d7fad0608ea992c5&append_to_response=credits\n",
      "getting info for url: https://api.themoviedb.org/3/movie/75780?api_key=cc37499b567edef6d7fad0608ea992c5&append_to_response=credits\n",
      "getting info for url: https://api.themoviedb.org/3/movie/343611?api_key=cc37499b567edef6d7fad0608ea992c5&append_to_response=credits\n",
      "getting info for url: https://api.themoviedb.org/3/movie/36955?api_key=cc37499b567edef6d7fad0608ea992c5&append_to_response=credits\n",
      "getting info for url: https://api.themoviedb.org/3/movie/597?api_key=cc37499b567edef6d7fad0608ea992c5&append_to_response=credits\n",
      "getting info for url: https://api.themoviedb.org/3/movie/22559?api_key=cc37499b567edef6d7fad0608ea992c5&append_to_response=credits\n",
      "getting info for url: https://api.themoviedb.org/3/movie/24982?api_key=cc37499b567edef6d7fad0608ea992c5&append_to_response=credits\n",
      "getting info for url: https://api.themoviedb.org/3/movie/19995?api_key=cc37499b567edef6d7fad0608ea992c5&append_to_response=credits\n",
      "getting info for url: https://api.themoviedb.org/3/movie/9414?api_key=cc37499b567edef6d7fad0608ea992c5&append_to_response=credits\n",
      "getting info for url: https://api.themoviedb.org/3/movie/330459?api_key=cc37499b567edef6d7fad0608ea992c5&append_to_response=credits\n",
      "getting info for url: https://api.themoviedb.org/3/movie/381288?api_key=cc37499b567edef6d7fad0608ea992c5&append_to_response=credits\n",
      "getting info for url: https://api.themoviedb.org/3/movie/330?api_key=cc37499b567edef6d7fad0608ea992c5&append_to_response=credits\n",
      "getting info for url: https://api.themoviedb.org/3/movie/11831?api_key=cc37499b567edef6d7fad0608ea992c5&append_to_response=credits\n",
      "getting info for url: https://api.themoviedb.org/3/movie/857?api_key=cc37499b567edef6d7fad0608ea992c5&append_to_response=credits\n",
      "getting info for url: https://api.themoviedb.org/3/movie/644?api_key=cc37499b567edef6d7fad0608ea992c5&append_to_response=credits\n"
     ]
    },
    {
     "name": "stdout",
     "output_type": "stream",
     "text": [
      "getting info for url: https://api.themoviedb.org/3/movie/180?api_key=cc37499b567edef6d7fad0608ea992c5&append_to_response=credits\n",
      "getting info for url: https://api.themoviedb.org/3/movie/640?api_key=cc37499b567edef6d7fad0608ea992c5&append_to_response=credits\n",
      "getting info for url: https://api.themoviedb.org/3/movie/13962?api_key=cc37499b567edef6d7fad0608ea992c5&append_to_response=credits\n",
      "getting info for url: https://api.themoviedb.org/3/movie/594?api_key=cc37499b567edef6d7fad0608ea992c5&append_to_response=credits\n",
      "getting info for url: https://api.themoviedb.org/3/movie/74?api_key=cc37499b567edef6d7fad0608ea992c5&append_to_response=credits\n",
      "getting info for url: https://api.themoviedb.org/3/movie/612?api_key=cc37499b567edef6d7fad0608ea992c5&append_to_response=credits\n",
      "getting info for url: https://api.themoviedb.org/3/movie/217?api_key=cc37499b567edef6d7fad0608ea992c5&append_to_response=credits\n",
      "getting info for url: https://api.themoviedb.org/3/movie/17578?api_key=cc37499b567edef6d7fad0608ea992c5&append_to_response=credits\n",
      "getting info for url: https://api.themoviedb.org/3/movie/57212?api_key=cc37499b567edef6d7fad0608ea992c5&append_to_response=credits\n",
      "getting info for url: https://api.themoviedb.org/3/movie/72976?api_key=cc37499b567edef6d7fad0608ea992c5&append_to_response=credits\n",
      "getting info for url: https://api.themoviedb.org/3/movie/296098?api_key=cc37499b567edef6d7fad0608ea992c5&append_to_response=credits\n",
      "getting info for url: https://api.themoviedb.org/3/movie/267935?api_key=cc37499b567edef6d7fad0608ea992c5&append_to_response=credits\n",
      "getting info for url: https://api.themoviedb.org/3/movie/2778?api_key=cc37499b567edef6d7fad0608ea992c5&append_to_response=credits\n",
      "getting info for url: https://api.themoviedb.org/3/movie/297762?api_key=cc37499b567edef6d7fad0608ea992c5&append_to_response=credits\n",
      "getting info for url: https://api.themoviedb.org/3/movie/382614?api_key=cc37499b567edef6d7fad0608ea992c5&append_to_response=credits\n",
      "getting info for url: https://api.themoviedb.org/3/movie/11660?api_key=cc37499b567edef6d7fad0608ea992c5&append_to_response=credits\n",
      "getting info for url: https://api.themoviedb.org/3/movie/77?api_key=cc37499b567edef6d7fad0608ea992c5&append_to_response=credits\n",
      "getting info for url: https://api.themoviedb.org/3/movie/320?api_key=cc37499b567edef6d7fad0608ea992c5&append_to_response=credits\n",
      "getting info for url: https://api.themoviedb.org/3/movie/272?api_key=cc37499b567edef6d7fad0608ea992c5&append_to_response=credits\n",
      "getting info for url: https://api.themoviedb.org/3/movie/1124?api_key=cc37499b567edef6d7fad0608ea992c5&append_to_response=credits\n",
      "getting info for url: https://api.themoviedb.org/3/movie/155?api_key=cc37499b567edef6d7fad0608ea992c5&append_to_response=credits\n",
      "getting info for url: https://api.themoviedb.org/3/movie/27205?api_key=cc37499b567edef6d7fad0608ea992c5&append_to_response=credits\n",
      "getting info for url: https://api.themoviedb.org/3/movie/49026?api_key=cc37499b567edef6d7fad0608ea992c5&append_to_response=credits\n",
      "getting info for url: https://api.themoviedb.org/3/movie/157336?api_key=cc37499b567edef6d7fad0608ea992c5&append_to_response=credits\n",
      "getting info for url: https://api.themoviedb.org/3/movie/374720?api_key=cc37499b567edef6d7fad0608ea992c5&append_to_response=credits\n",
      "getting info for url: https://api.themoviedb.org/3/movie/350?api_key=cc37499b567edef6d7fad0608ea992c5&append_to_response=credits\n",
      "getting info for url: https://api.themoviedb.org/3/movie/36826?api_key=cc37499b567edef6d7fad0608ea992c5&append_to_response=credits\n",
      "getting info for url: https://api.themoviedb.org/3/movie/11879?api_key=cc37499b567edef6d7fad0608ea992c5&append_to_response=credits\n",
      "getting info for url: https://api.themoviedb.org/3/movie/9491?api_key=cc37499b567edef6d7fad0608ea992c5&append_to_response=credits\n",
      "getting info for url: https://api.themoviedb.org/3/movie/1089?api_key=cc37499b567edef6d7fad0608ea992c5&append_to_response=credits\n",
      "getting info for url: https://api.themoviedb.org/3/movie/281?api_key=cc37499b567edef6d7fad0608ea992c5&append_to_response=credits\n",
      "getting info for url: https://api.themoviedb.org/3/movie/13526?api_key=cc37499b567edef6d7fad0608ea992c5&append_to_response=credits\n",
      "getting info for url: https://api.themoviedb.org/3/movie/8665?api_key=cc37499b567edef6d7fad0608ea992c5&append_to_response=credits\n",
      "getting info for url: https://api.themoviedb.org/3/movie/12162?api_key=cc37499b567edef6d7fad0608ea992c5&append_to_response=credits\n",
      "getting info for url: https://api.themoviedb.org/3/movie/97630?api_key=cc37499b567edef6d7fad0608ea992c5&append_to_response=credits\n",
      "getting info for url: https://api.themoviedb.org/3/movie/407448?api_key=cc37499b567edef6d7fad0608ea992c5&append_to_response=credits\n",
      "getting info for url: https://api.themoviedb.org/3/movie/141052?api_key=cc37499b567edef6d7fad0608ea992c5&append_to_response=credits\n",
      "getting info for url: https://api.themoviedb.org/3/movie/2157?api_key=cc37499b567edef6d7fad0608ea992c5&append_to_response=credits\n",
      "getting info for url: https://api.themoviedb.org/3/movie/181808?api_key=cc37499b567edef6d7fad0608ea992c5&append_to_response=credits\n",
      "getting info for url: https://api.themoviedb.org/3/movie/446354?api_key=cc37499b567edef6d7fad0608ea992c5&append_to_response=credits\n",
      "getting info for url: https://api.themoviedb.org/3/movie/12775?api_key=cc37499b567edef6d7fad0608ea992c5&append_to_response=credits\n",
      "getting info for url: https://api.themoviedb.org/3/movie/5548?api_key=cc37499b567edef6d7fad0608ea992c5&append_to_response=credits\n",
      "getting info for url: https://api.themoviedb.org/3/movie/861?api_key=cc37499b567edef6d7fad0608ea992c5&append_to_response=credits\n",
      "getting info for url: https://api.themoviedb.org/3/movie/402?api_key=cc37499b567edef6d7fad0608ea992c5&append_to_response=credits\n",
      "getting info for url: https://api.themoviedb.org/3/movie/10802?api_key=cc37499b567edef6d7fad0608ea992c5&append_to_response=credits\n",
      "getting info for url: https://api.themoviedb.org/3/movie/563?api_key=cc37499b567edef6d7fad0608ea992c5&append_to_response=credits\n",
      "getting info for url: https://api.themoviedb.org/3/movie/9383?api_key=cc37499b567edef6d7fad0608ea992c5&append_to_response=credits\n",
      "getting info for url: https://api.themoviedb.org/3/movie/337674?api_key=cc37499b567edef6d7fad0608ea992c5&append_to_response=credits\n",
      "getting info for url: https://api.themoviedb.org/3/movie/15698?api_key=cc37499b567edef6d7fad0608ea992c5&append_to_response=credits\n",
      "getting info for url: https://api.themoviedb.org/3/movie/11050?api_key=cc37499b567edef6d7fad0608ea992c5&append_to_response=credits\n",
      "getting info for url: https://api.themoviedb.org/3/movie/12626?api_key=cc37499b567edef6d7fad0608ea992c5&append_to_response=credits\n",
      "getting info for url: https://api.themoviedb.org/3/movie/333339?api_key=cc37499b567edef6d7fad0608ea992c5&append_to_response=credits\n",
      "getting info for url: https://api.themoviedb.org/3/movie/106143?api_key=cc37499b567edef6d7fad0608ea992c5&append_to_response=credits\n",
      "getting info for url: https://api.themoviedb.org/3/movie/2898?api_key=cc37499b567edef6d7fad0608ea992c5&append_to_response=credits\n",
      "getting info for url: https://api.themoviedb.org/3/movie/2539?api_key=cc37499b567edef6d7fad0608ea992c5&append_to_response=credits\n",
      "getting info for url: https://api.themoviedb.org/3/movie/42888?api_key=cc37499b567edef6d7fad0608ea992c5&append_to_response=credits\n",
      "getting info for url: https://api.themoviedb.org/3/movie/19366?api_key=cc37499b567edef6d7fad0608ea992c5&append_to_response=credits\n",
      "getting info for url: https://api.themoviedb.org/3/movie/10386?api_key=cc37499b567edef6d7fad0608ea992c5&append_to_response=credits\n",
      "getting info for url: https://api.themoviedb.org/3/movie/9806?api_key=cc37499b567edef6d7fad0608ea992c5&append_to_response=credits\n",
      "getting info for url: https://api.themoviedb.org/3/movie/348350?api_key=cc37499b567edef6d7fad0608ea992c5&append_to_response=credits\n",
      "getting info for url: https://api.themoviedb.org/3/movie/2062?api_key=cc37499b567edef6d7fad0608ea992c5&append_to_response=credits\n",
      "getting info for url: https://api.themoviedb.org/3/movie/56292?api_key=cc37499b567edef6d7fad0608ea992c5&append_to_response=credits\n",
      "getting info for url: https://api.themoviedb.org/3/movie/158852?api_key=cc37499b567edef6d7fad0608ea992c5&append_to_response=credits\n"
     ]
    },
    {
     "name": "stdout",
     "output_type": "stream",
     "text": [
      "getting info for url: https://api.themoviedb.org/3/movie/260513?api_key=cc37499b567edef6d7fad0608ea992c5&append_to_response=credits\n",
      "getting info for url: https://api.themoviedb.org/3/movie/25296?api_key=cc37499b567edef6d7fad0608ea992c5&append_to_response=credits\n",
      "getting info for url: https://api.themoviedb.org/3/movie/9261?api_key=cc37499b567edef6d7fad0608ea992c5&append_to_response=credits\n",
      "getting info for url: https://api.themoviedb.org/3/movie/10451?api_key=cc37499b567edef6d7fad0608ea992c5&append_to_response=credits\n",
      "getting info for url: https://api.themoviedb.org/3/movie/4584?api_key=cc37499b567edef6d7fad0608ea992c5&append_to_response=credits\n",
      "getting info for url: https://api.themoviedb.org/3/movie/76492?api_key=cc37499b567edef6d7fad0608ea992c5&append_to_response=credits\n",
      "getting info for url: https://api.themoviedb.org/3/movie/159824?api_key=cc37499b567edef6d7fad0608ea992c5&append_to_response=credits\n",
      "getting info for url: https://api.themoviedb.org/3/movie/400155?api_key=cc37499b567edef6d7fad0608ea992c5&append_to_response=credits\n",
      "getting info for url: https://api.themoviedb.org/3/movie/68924?api_key=cc37499b567edef6d7fad0608ea992c5&append_to_response=credits\n",
      "getting info for url: https://api.themoviedb.org/3/movie/22267?api_key=cc37499b567edef6d7fad0608ea992c5&append_to_response=credits\n",
      "getting info for url: https://api.themoviedb.org/3/movie/146?api_key=cc37499b567edef6d7fad0608ea992c5&append_to_response=credits\n",
      "getting info for url: https://api.themoviedb.org/3/movie/30091?api_key=cc37499b567edef6d7fad0608ea992c5&append_to_response=credits\n",
      "getting info for url: https://api.themoviedb.org/3/movie/1927?api_key=cc37499b567edef6d7fad0608ea992c5&append_to_response=credits\n",
      "getting info for url: https://api.themoviedb.org/3/movie/142?api_key=cc37499b567edef6d7fad0608ea992c5&append_to_response=credits\n",
      "getting info for url: https://api.themoviedb.org/3/movie/4588?api_key=cc37499b567edef6d7fad0608ea992c5&append_to_response=credits\n",
      "getting info for url: https://api.themoviedb.org/3/movie/26320?api_key=cc37499b567edef6d7fad0608ea992c5&append_to_response=credits\n",
      "getting info for url: https://api.themoviedb.org/3/movie/87827?api_key=cc37499b567edef6d7fad0608ea992c5&append_to_response=credits\n",
      "getting info for url: https://api.themoviedb.org/3/movie/293767?api_key=cc37499b567edef6d7fad0608ea992c5&append_to_response=credits\n",
      "getting info for url: https://api.themoviedb.org/3/movie/2300?api_key=cc37499b567edef6d7fad0608ea992c5&append_to_response=credits\n",
      "getting info for url: https://api.themoviedb.org/3/movie/332562?api_key=cc37499b567edef6d7fad0608ea992c5&append_to_response=credits\n",
      "getting info for url: https://api.themoviedb.org/3/movie/9820?api_key=cc37499b567edef6d7fad0608ea992c5&append_to_response=credits\n",
      "getting info for url: https://api.themoviedb.org/3/movie/3981?api_key=cc37499b567edef6d7fad0608ea992c5&append_to_response=credits\n",
      "getting info for url: https://api.themoviedb.org/3/movie/6964?api_key=cc37499b567edef6d7fad0608ea992c5&append_to_response=credits\n",
      "getting info for url: https://api.themoviedb.org/3/movie/1581?api_key=cc37499b567edef6d7fad0608ea992c5&append_to_response=credits\n",
      "getting info for url: https://api.themoviedb.org/3/movie/22897?api_key=cc37499b567edef6d7fad0608ea992c5&append_to_response=credits\n",
      "getting info for url: https://api.themoviedb.org/3/movie/257211?api_key=cc37499b567edef6d7fad0608ea992c5&append_to_response=credits\n",
      "getting info for url: https://api.themoviedb.org/3/movie/427900?api_key=cc37499b567edef6d7fad0608ea992c5&append_to_response=credits\n",
      "getting info for url: https://api.themoviedb.org/3/movie/82690?api_key=cc37499b567edef6d7fad0608ea992c5&append_to_response=credits\n",
      "getting info for url: https://api.themoviedb.org/3/movie/404368?api_key=cc37499b567edef6d7fad0608ea992c5&append_to_response=credits\n",
      "getting info for url: https://api.themoviedb.org/3/movie/5683?api_key=cc37499b567edef6d7fad0608ea992c5&append_to_response=credits\n",
      "getting info for url: https://api.themoviedb.org/3/movie/4011?api_key=cc37499b567edef6d7fad0608ea992c5&append_to_response=credits\n",
      "getting info for url: https://api.themoviedb.org/3/movie/297802?api_key=cc37499b567edef6d7fad0608ea992c5&append_to_response=credits\n",
      "getting info for url: https://api.themoviedb.org/3/movie/268?api_key=cc37499b567edef6d7fad0608ea992c5&append_to_response=credits\n",
      "getting info for url: https://api.themoviedb.org/3/movie/162?api_key=cc37499b567edef6d7fad0608ea992c5&append_to_response=credits\n",
      "getting info for url: https://api.themoviedb.org/3/movie/450465?api_key=cc37499b567edef6d7fad0608ea992c5&append_to_response=credits\n",
      "getting info for url: https://api.themoviedb.org/3/movie/364?api_key=cc37499b567edef6d7fad0608ea992c5&append_to_response=credits\n",
      "getting info for url: https://api.themoviedb.org/3/movie/522?api_key=cc37499b567edef6d7fad0608ea992c5&append_to_response=credits\n",
      "getting info for url: https://api.themoviedb.org/3/movie/75?api_key=cc37499b567edef6d7fad0608ea992c5&append_to_response=credits\n",
      "getting info for url: https://api.themoviedb.org/3/movie/2668?api_key=cc37499b567edef6d7fad0608ea992c5&append_to_response=credits\n",
      "getting info for url: https://api.themoviedb.org/3/movie/869?api_key=cc37499b567edef6d7fad0608ea992c5&append_to_response=credits\n",
      "getting info for url: https://api.themoviedb.org/3/movie/587?api_key=cc37499b567edef6d7fad0608ea992c5&append_to_response=credits\n",
      "getting info for url: https://api.themoviedb.org/3/movie/118?api_key=cc37499b567edef6d7fad0608ea992c5&append_to_response=credits\n",
      "getting info for url: https://api.themoviedb.org/3/movie/13885?api_key=cc37499b567edef6d7fad0608ea992c5&append_to_response=credits\n",
      "getting info for url: https://api.themoviedb.org/3/movie/12155?api_key=cc37499b567edef6d7fad0608ea992c5&append_to_response=credits\n",
      "getting info for url: https://api.themoviedb.org/3/movie/62213?api_key=cc37499b567edef6d7fad0608ea992c5&append_to_response=credits\n",
      "getting info for url: https://api.themoviedb.org/3/movie/87093?api_key=cc37499b567edef6d7fad0608ea992c5&append_to_response=credits\n",
      "getting info for url: https://api.themoviedb.org/3/movie/283366?api_key=cc37499b567edef6d7fad0608ea992c5&append_to_response=credits\n",
      "getting info for url: https://api.themoviedb.org/3/movie/329996?api_key=cc37499b567edef6d7fad0608ea992c5&append_to_response=credits\n",
      "getting info for url: https://api.themoviedb.org/3/movie/121856?api_key=cc37499b567edef6d7fad0608ea992c5&append_to_response=credits\n",
      "getting info for url: https://api.themoviedb.org/3/movie/447404?api_key=cc37499b567edef6d7fad0608ea992c5&append_to_response=credits\n",
      "getting info for url: https://api.themoviedb.org/3/movie/11524?api_key=cc37499b567edef6d7fad0608ea992c5&append_to_response=credits\n",
      "getting info for url: https://api.themoviedb.org/3/movie/26198?api_key=cc37499b567edef6d7fad0608ea992c5&append_to_response=credits\n",
      "getting info for url: https://api.themoviedb.org/3/movie/11454?api_key=cc37499b567edef6d7fad0608ea992c5&append_to_response=credits\n",
      "getting info for url: https://api.themoviedb.org/3/movie/9361?api_key=cc37499b567edef6d7fad0608ea992c5&append_to_response=credits\n",
      "getting info for url: https://api.themoviedb.org/3/movie/949?api_key=cc37499b567edef6d7fad0608ea992c5&append_to_response=credits\n",
      "getting info for url: https://api.themoviedb.org/3/movie/9008?api_key=cc37499b567edef6d7fad0608ea992c5&append_to_response=credits\n",
      "getting info for url: https://api.themoviedb.org/3/movie/8489?api_key=cc37499b567edef6d7fad0608ea992c5&append_to_response=credits\n",
      "getting info for url: https://api.themoviedb.org/3/movie/1538?api_key=cc37499b567edef6d7fad0608ea992c5&append_to_response=credits\n",
      "getting info for url: https://api.themoviedb.org/3/movie/82?api_key=cc37499b567edef6d7fad0608ea992c5&append_to_response=credits\n",
      "getting info for url: https://api.themoviedb.org/3/movie/11322?api_key=cc37499b567edef6d7fad0608ea992c5&append_to_response=credits\n",
      "getting info for url: https://api.themoviedb.org/3/movie/201088?api_key=cc37499b567edef6d7fad0608ea992c5&append_to_response=credits\n",
      "getting info for url: https://api.themoviedb.org/3/movie/1726?api_key=cc37499b567edef6d7fad0608ea992c5&append_to_response=credits\n",
      "getting info for url: https://api.themoviedb.org/3/movie/1724?api_key=cc37499b567edef6d7fad0608ea992c5&append_to_response=credits\n"
     ]
    },
    {
     "name": "stdout",
     "output_type": "stream",
     "text": [
      "getting info for url: https://api.themoviedb.org/3/movie/10138?api_key=cc37499b567edef6d7fad0608ea992c5&append_to_response=credits\n",
      "getting info for url: https://api.themoviedb.org/3/movie/487297?api_key=cc37499b567edef6d7fad0608ea992c5&append_to_response=credits\n",
      "getting info for url: https://api.themoviedb.org/3/movie/10195?api_key=cc37499b567edef6d7fad0608ea992c5&append_to_response=credits\n",
      "getting info for url: https://api.themoviedb.org/3/movie/1771?api_key=cc37499b567edef6d7fad0608ea992c5&append_to_response=credits\n",
      "getting info for url: https://api.themoviedb.org/3/movie/3933?api_key=cc37499b567edef6d7fad0608ea992c5&append_to_response=credits\n",
      "getting info for url: https://api.themoviedb.org/3/movie/24428?api_key=cc37499b567edef6d7fad0608ea992c5&append_to_response=credits\n",
      "getting info for url: https://api.themoviedb.org/3/movie/68721?api_key=cc37499b567edef6d7fad0608ea992c5&append_to_response=credits\n",
      "getting info for url: https://api.themoviedb.org/3/movie/62214?api_key=cc37499b567edef6d7fad0608ea992c5&append_to_response=credits\n",
      "getting info for url: https://api.themoviedb.org/3/movie/76338?api_key=cc37499b567edef6d7fad0608ea992c5&append_to_response=credits\n",
      "getting info for url: https://api.themoviedb.org/3/movie/100402?api_key=cc37499b567edef6d7fad0608ea992c5&append_to_response=credits\n",
      "getting info for url: https://api.themoviedb.org/3/movie/118340?api_key=cc37499b567edef6d7fad0608ea992c5&append_to_response=credits\n",
      "getting info for url: https://api.themoviedb.org/3/movie/99861?api_key=cc37499b567edef6d7fad0608ea992c5&append_to_response=credits\n",
      "getting info for url: https://api.themoviedb.org/3/movie/102899?api_key=cc37499b567edef6d7fad0608ea992c5&append_to_response=credits\n",
      "getting info for url: https://api.themoviedb.org/3/movie/271110?api_key=cc37499b567edef6d7fad0608ea992c5&append_to_response=credits\n",
      "getting info for url: https://api.themoviedb.org/3/movie/42569?api_key=cc37499b567edef6d7fad0608ea992c5&append_to_response=credits\n",
      "getting info for url: https://api.themoviedb.org/3/movie/284052?api_key=cc37499b567edef6d7fad0608ea992c5&append_to_response=credits\n",
      "getting info for url: https://api.themoviedb.org/3/movie/283995?api_key=cc37499b567edef6d7fad0608ea992c5&append_to_response=credits\n",
      "DONE UPDATING\n"
     ]
    }
   ],
   "source": [
    "releasedates = []\n",
    "budgets = []\n",
    "revenues = []\n",
    "runtimes = []\n",
    "miniseriesNames = []\n",
    "credits = {}\n",
    "for (i, val) in df_films.iterrows():\n",
    "    film = getMovieByExternalId(i)\n",
    "    \n",
    "    miniseriesName = df_miniseries.loc[val['MINISERIES'],'NAME']\n",
    "    filmName = val['NAME']\n",
    "    patreon = val['PATREON']\n",
    "    \n",
    "    releasedates.append(film['release_date'])\n",
    "    budgets.append(film['budget'])\n",
    "    revenues.append(film['revenue'])\n",
    "    runtimes.append(film['runtime'])\n",
    "    miniseriesNames.append(miniseriesName)\n",
    "    \n",
    "    for credit in film['credits']['cast']:\n",
    "        credits[credit['credit_id']] = {\"EXTERNALID\": credit[\"id\"], \"NAME\": credit[\"name\"], \"CAST\": True, \"FILM\": i, \"FILMNAME\": filmName, \"MINISERIES\": val[\"MINISERIES\"], \"MINISERIESNAME\": miniseriesName, \"PATREON\": patreon}\n",
    "        \n",
    "    for credit in film['credits']['crew']:\n",
    "        credits[credit['credit_id']] = {\"EXTERNALID\": credit[\"id\"], \"NAME\": credit[\"name\"], \"CAST\": False, \"FILM\": i, \"FILMNAME\": filmName, \"MINISERIES\": val[\"MINISERIES\"], \"MINISERIESNAME\": miniseriesName, \"PATREON\": patreon}\n",
    "    \n",
    "df_films['RELEASEDATE']= releasedates\n",
    "df_films['BUDGET']= budgets\n",
    "df_films['REVENUE']= revenues\n",
    "df_films['RUNTIME']= runtimes\n",
    "df_films['MINISERIESNAME']= miniseriesNames\n",
    "\n",
    "df_credits = pd.DataFrame.from_dict(credits, orient='index')\n",
    "\n",
    "print(\"DONE UPDATING\")"
   ]
  },
  {
   "cell_type": "markdown",
   "metadata": {},
   "source": [
    "write results to excel"
   ]
  },
  {
   "cell_type": "code",
   "execution_count": 6,
   "metadata": {},
   "outputs": [],
   "source": [
    "df_miniseries = xl['MINISERIES']\n",
    "\n",
    "writer = pd.ExcelWriter('blank-check-data.xlsx')\n",
    "df_miniseries.to_excel(writer, 'MINISERIES')\n",
    "df_films.to_excel(writer, 'FILMS')\n",
    "df_credits.to_excel(writer, 'CREDITS', index_label='CODE')\n",
    "writer.save()"
   ]
  },
  {
   "cell_type": "code",
   "execution_count": null,
   "metadata": {},
   "outputs": [],
   "source": []
  }
 ],
 "metadata": {
  "kernelspec": {
   "display_name": "Python 3",
   "language": "python",
   "name": "python3"
  },
  "language_info": {
   "codemirror_mode": {
    "name": "ipython",
    "version": 3
   },
   "file_extension": ".py",
   "mimetype": "text/x-python",
   "name": "python",
   "nbconvert_exporter": "python",
   "pygments_lexer": "ipython3",
   "version": "3.7.1"
  }
 },
 "nbformat": 4,
 "nbformat_minor": 2
}
