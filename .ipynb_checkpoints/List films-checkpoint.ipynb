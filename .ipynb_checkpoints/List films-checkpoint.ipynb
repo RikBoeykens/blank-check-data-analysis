{
 "cells": [
  {
   "cell_type": "markdown",
   "metadata": {},
   "source": [
    "# List Films"
   ]
  },
  {
   "cell_type": "markdown",
   "metadata": {},
   "source": [
    "import"
   ]
  },
  {
   "cell_type": "code",
   "execution_count": 1,
   "metadata": {},
   "outputs": [],
   "source": [
    "import pandas as pd\n",
    "import numpy as np"
   ]
  },
  {
   "cell_type": "markdown",
   "metadata": {},
   "source": [
    "setup dataframes from excel"
   ]
  },
  {
   "cell_type": "code",
   "execution_count": 2,
   "metadata": {},
   "outputs": [],
   "source": [
    "xl = pd.read_excel('blank-check-data.xlsx', sheet_name=None, index_col='CODE')\n",
    "df_miniseries = xl['MINISERIES']\n",
    "df_films = xl['FILMS']"
   ]
  },
  {
   "cell_type": "markdown",
   "metadata": {},
   "source": [
    "list films per miniseries"
   ]
  },
  {
   "cell_type": "code",
   "execution_count": 3,
   "metadata": {},
   "outputs": [],
   "source": [
    "df_miniseries['FILMS'] = [list(df_films[df_films['MINISERIES'] == code]['NAME']) for code in df_miniseries.index.values]"
   ]
  },
  {
   "cell_type": "markdown",
   "metadata": {},
   "source": [
    "print miniseries with films"
   ]
  },
  {
   "cell_type": "code",
   "execution_count": 4,
   "metadata": {},
   "outputs": [
    {
     "name": "stdout",
     "output_type": "stream",
     "text": [
      "CODE\n",
      "STARWARS           [Star Wars: Episode I - The Phantom Menace, St...\n",
      "JUDGE                                                    [The Judge]\n",
      "FANTASTICFOUR      [The Fantastic Four, Fantastic Four, Fantastic...\n",
      "SHYAMALAN          [Praying with Anger, Wide Awake, The Sixth Sen...\n",
      "WACHOWSKI          [Bound, The Matrix, The Matrix Reloaded, The M...\n",
      "DCEU               [Batman v Superman: Dawn of Justice, Suicide S...\n",
      "FLETCH                                                      [Fletch]\n",
      "CROWE              [Say Anything…, Singles, Jerry Maguire, Almost...\n",
      "UNDERSIEGE                           [Under Siege 2: Dark Territory]\n",
      "CAMERON            [Piranha Part Two: The Spawning, The Terminato...\n",
      "JACKREACHER              [Jack Reacher, Jack Reacher: Never Go Back]\n",
      "MANWHOKNEW                             [The Man Who Knew Too Little]\n",
      "SPIELBERG          [The Lost World: Jurassic Park, Amistad, Savin...\n",
      "BLANKCHECK                                             [Blank Check]\n",
      "CLIFFORD                                                  [Clifford]\n",
      "BOOKOFHENRY                                      [The Book of Henry]\n",
      "NOLAN              [Following, Memento, Insomnia, Batman Begins, ...\n",
      "DEVILWEARSPRADA                              [The Devil Wears Prada]\n",
      "BIGELOW            [The Loveless, Near Dark, Blue Steel, Point Br...\n",
      "LOSTINSPACE                                          [Lost in Space]\n",
      "VERHOEVEN          [Flesh + Blood, RoboCop, Total Recall, Basic I...\n",
      "RUNNINGSCARED                                       [Running Scared]\n",
      "BROOKS             [Terms of Endearment, Broadcast News, I'll Do ...\n",
      "JOSIE                                      [Josie and the Pussycats]\n",
      "BIRD               [The Iron Giant, The Incredibles, Ratatouille,...\n",
      "LEE                [Pushing Hands, The Wedding Banquet, Eat Drink...\n",
      "TRANSYLVANIA       [Hotel Transylvania, Hotel Transylvania 2, Hot...\n",
      "SPACEJAM                                                 [Space Jam]\n",
      "STARISBORN                                          [A Star Is Born]\n",
      "MEYERS             [The Parent Trap, What Women Want, Something's...\n",
      "RALPH                    [Wreck-It Ralph, Ralph Breaks the Internet]\n",
      "BURTON             [Pee-wee's Big Adventure, Beetlejuice, Batman,...\n",
      "ASSASSINSCREED                                    [Assassin's Creed]\n",
      "POKEMON                                  [POKÉMON Detective Pikachu]\n",
      "MANN               [Thief, The Keep, Manhunter, The Last of the M...\n",
      "MIYAZAKI                                                          []\n",
      "MCU                [Iron Man, The Incredible Hulk, Iron Man 2, Th...\n",
      "WHATMENWANT                                          [What Men Want]\n",
      "WHERESPOPPA                                         [Where’s Poppa?]\n",
      "Name: FILMS, dtype: object\n"
     ]
    }
   ],
   "source": [
    "print(df_miniseries['FILMS'])"
   ]
  },
  {
   "cell_type": "code",
   "execution_count": null,
   "metadata": {},
   "outputs": [],
   "source": []
  }
 ],
 "metadata": {
  "kernelspec": {
   "display_name": "Python 3",
   "language": "python",
   "name": "python3"
  },
  "language_info": {
   "codemirror_mode": {
    "name": "ipython",
    "version": 3
   },
   "file_extension": ".py",
   "mimetype": "text/x-python",
   "name": "python",
   "nbconvert_exporter": "python",
   "pygments_lexer": "ipython3",
   "version": "3.7.3"
  }
 },
 "nbformat": 4,
 "nbformat_minor": 2
}
