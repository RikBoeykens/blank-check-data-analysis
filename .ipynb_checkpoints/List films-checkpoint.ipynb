{
 "cells": [
  {
   "cell_type": "markdown",
   "metadata": {},
   "source": [
    "# List Films"
   ]
  },
  {
   "cell_type": "markdown",
   "metadata": {},
   "source": [
    "import"
   ]
  },
  {
   "cell_type": "code",
   "execution_count": 1,
   "metadata": {},
   "outputs": [],
   "source": [
    "import pandas as pd\n",
    "import numpy as np"
   ]
  },
  {
   "cell_type": "markdown",
   "metadata": {},
   "source": [
    "setup dataframes from excel"
   ]
  },
  {
   "cell_type": "code",
   "execution_count": 2,
   "metadata": {},
   "outputs": [],
   "source": [
    "xl = pd.read_excel('blank-check-data.xlsx', sheet_name=None, index_col='CODE')\n",
    "df_miniseries = xl['MINISERIES']\n",
    "df_films = xl['FILMS']"
   ]
  },
  {
   "cell_type": "markdown",
   "metadata": {},
   "source": [
    "list films per miniseries"
   ]
  },
  {
   "cell_type": "code",
   "execution_count": 3,
   "metadata": {},
   "outputs": [],
   "source": [
    "df_miniseries['FILMS'] = [list(df_films[df_films['MINISERIES'] == code]['NAME']) for code in df_miniseries.index.values]"
   ]
  },
  {
   "cell_type": "markdown",
   "metadata": {},
   "source": [
    "print miniseries with films"
   ]
  },
  {
   "cell_type": "code",
   "execution_count": 4,
   "metadata": {},
   "outputs": [
    {
     "name": "stdout",
     "output_type": "stream",
     "text": [
      "CODE\n",
      "STARWARS           [Star Wars: Episode I - The Phantom Menace, St...\n",
      "JUDGE                                                    [The Judge]\n",
      "FANTASTICFOUR      [The Fantastic Four, Fantastic Four, Fantastic...\n",
      "SHYAMALAN          [Praying with Anger, Wide Awake, The Sixth Sen...\n",
      "WACHOWSKI                                                         []\n",
      "DCEU                                                              []\n",
      "FLETCH                                                            []\n",
      "CROWE                                                             []\n",
      "UNDERSIEGE                                                        []\n",
      "CAMERON                                                           []\n",
      "JACKREACHER                                                       []\n",
      "MANWHOKNEW                                                        []\n",
      "SPIELBERG                                                         []\n",
      "BLANKCHECK                                                        []\n",
      "CLIFFORD                                                          []\n",
      "BOOKOFHENRY                                                       []\n",
      "NOLAN                                                             []\n",
      "DEVILWEARSPRADA                                                   []\n",
      "BIGELOW                                                           []\n",
      "LOSTINSPACE                                                       []\n",
      "VERHOEVEN                                                         []\n",
      "RUNNINGSCARED                                                     []\n",
      "BROOKS                                                            []\n",
      "JOSIE                                                             []\n",
      "BIRD                                                              []\n",
      "LEE                                                               []\n",
      "TRANSYLVANIA                                                      []\n",
      "SPACEJAM                                                          []\n",
      "STARISBORN                                                        []\n",
      "MEYERS                                                            []\n",
      "RALPH                                                             []\n",
      "BURTON                                                            []\n",
      "ASSASSINSCREED                                                    []\n",
      "POKEMON                                                           []\n",
      "MANN                                                              []\n",
      "MIYAZAKI                                                          []\n",
      "MCU                                                               []\n",
      "WHATMENWANT                                                       []\n",
      "WHERESPOPPA                                                       []\n",
      "Name: FILMS, dtype: object\n"
     ]
    }
   ],
   "source": [
    "print(df_miniseries['FILMS'])"
   ]
  },
  {
   "cell_type": "code",
   "execution_count": null,
   "metadata": {},
   "outputs": [],
   "source": []
  }
 ],
 "metadata": {
  "kernelspec": {
   "display_name": "Python 3",
   "language": "python",
   "name": "python3"
  },
  "language_info": {
   "codemirror_mode": {
    "name": "ipython",
    "version": 3
   },
   "file_extension": ".py",
   "mimetype": "text/x-python",
   "name": "python",
   "nbconvert_exporter": "python",
   "pygments_lexer": "ipython3",
   "version": "3.7.1"
  }
 },
 "nbformat": 4,
 "nbformat_minor": 2
}
