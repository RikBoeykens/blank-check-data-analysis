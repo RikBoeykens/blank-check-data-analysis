{
 "cells": [
  {
   "cell_type": "markdown",
   "metadata": {},
   "source": [
    "# Credit Info"
   ]
  },
  {
   "cell_type": "markdown",
   "metadata": {},
   "source": [
    "imports"
   ]
  },
  {
   "cell_type": "code",
   "execution_count": 1,
   "metadata": {},
   "outputs": [],
   "source": [
    "import pandas as pd\n",
    "import numpy as np\n",
    "import matplotlib.pyplot as plt"
   ]
  },
  {
   "cell_type": "markdown",
   "metadata": {},
   "source": [
    "get credits"
   ]
  },
  {
   "cell_type": "code",
   "execution_count": 2,
   "metadata": {},
   "outputs": [],
   "source": [
    "xl = pd.read_excel('blank-check-data.xlsx', sheet_name=None, index_col='CODE')\n",
    "df_credits = xl['CREDITS']"
   ]
  },
  {
   "cell_type": "code",
   "execution_count": 3,
   "metadata": {},
   "outputs": [],
   "source": [
    "df_credits_by_external = df_credits.groupby(['EXTERNALID'])\n",
    "\n",
    "df_cast_credits = df_credits[df_credits['CAST']]\n",
    "df_cast_credits_by_external = df_cast_credits.groupby(['EXTERNALID'])\n",
    "\n",
    "df_cast_credits_without_patreon = df_cast_credits[df_cast_credits['PATREON']==False]\n",
    "df_cast_credits_without_patreon_by_external = df_cast_credits_without_patreon.groupby(['EXTERNALID'])"
   ]
  },
  {
   "cell_type": "code",
   "execution_count": 4,
   "metadata": {},
   "outputs": [],
   "source": [
    "def groupCredits(df, valueColumn, nameColumn) :\n",
    "    credits_by_name = [{\"name\": creditGroup['NAME'][0], \"count\": len(creditGroup.groupby([valueColumn])), \"names\": \", \".join([str(films[nameColumn][0]) for externalId, films in creditGroup.groupby(valueColumn)])} for externalId, creditGroup in df]\n",
    "    return pd.DataFrame(credits_by_name)"
   ]
  },
  {
   "cell_type": "code",
   "execution_count": 5,
   "metadata": {},
   "outputs": [
    {
     "name": "stdout",
     "output_type": "stream",
     "text": [
      "   count           name                                              names\n",
      "0     11   George Lucas  Star Wars, Indiana Jones and the Kingdom of th...\n",
      "1      5    Mark Hamill  Star Wars, The Empire Strikes Back, Return of ...\n",
      "2      6  Harrison Ford  Star Wars, Indiana Jones and the Kingdom of th...\n",
      "3      5  Carrie Fisher  Star Wars, The Empire Strikes Back, Return of ...\n",
      "4      1  Peter Cushing                                          Star Wars\n"
     ]
    }
   ],
   "source": [
    "df_credits_by_name_for_film = groupCredits(df_credits_by_external, \"FILM\", \"FILMNAME\")\n",
    "print(df_credits_by_name_for_film.head())"
   ]
  },
  {
   "cell_type": "code",
   "execution_count": 6,
   "metadata": {},
   "outputs": [
    {
     "name": "stdout",
     "output_type": "stream",
     "text": [
      "   count           name                                              names\n",
      "0      2   George Lucas                      Pod Me If You Cast, Star Wars\n",
      "1      1    Mark Hamill                                          Star Wars\n",
      "2      3  Harrison Ford  Pod-19: The Widowcaster, Pod Me If You Cast, S...\n",
      "3      1  Carrie Fisher                                          Star Wars\n",
      "4      1  Peter Cushing                                          Star Wars\n"
     ]
    }
   ],
   "source": [
    "df_credits_by_name_for_miniseries = groupCredits(df_credits_by_external, \"MINISERIES\", \"MINISERIESNAME\")\n",
    "print(df_credits_by_name_for_miniseries.head())"
   ]
  },
  {
   "cell_type": "code",
   "execution_count": 7,
   "metadata": {},
   "outputs": [
    {
     "name": "stdout",
     "output_type": "stream",
     "text": [
      "   count           name                                              names\n",
      "0      1   George Lucas       Star Wars: Episode III - Revenge of the Sith\n",
      "1      5    Mark Hamill  Star Wars, The Empire Strikes Back, Return of ...\n",
      "2      6  Harrison Ford  Star Wars, Indiana Jones and the Kingdom of th...\n",
      "3      5  Carrie Fisher  Star Wars, The Empire Strikes Back, Return of ...\n",
      "4      1  Peter Cushing                                          Star Wars\n"
     ]
    }
   ],
   "source": [
    "df_cast_credits_by_name_for_film = groupCredits(df_cast_credits_by_external, \"FILM\", \"FILMNAME\")\n",
    "print(df_cast_credits_by_name_for_film.head())"
   ]
  },
  {
   "cell_type": "code",
   "execution_count": 8,
   "metadata": {},
   "outputs": [
    {
     "name": "stdout",
     "output_type": "stream",
     "text": [
      "   count           name                                              names\n",
      "0      1   George Lucas                                          Star Wars\n",
      "1      1    Mark Hamill                                          Star Wars\n",
      "2      3  Harrison Ford  Pod-19: The Widowcaster, Pod Me If You Cast, S...\n",
      "3      1  Carrie Fisher                                          Star Wars\n",
      "4      1  Peter Cushing                                          Star Wars\n"
     ]
    }
   ],
   "source": [
    "df_cast_credits_by_name_for_miniseries = groupCredits(df_cast_credits_by_external, \"MINISERIES\", \"MINISERIESNAME\")\n",
    "print(df_cast_credits_by_name_for_miniseries.head())"
   ]
  },
  {
   "cell_type": "code",
   "execution_count": 9,
   "metadata": {},
   "outputs": [
    {
     "name": "stdout",
     "output_type": "stream",
     "text": [
      "   count           name                                              names\n",
      "0      1   George Lucas       Star Wars: Episode III - Revenge of the Sith\n",
      "1      5    Mark Hamill  Star Wars, The Empire Strikes Back, Return of ...\n",
      "2      6  Harrison Ford  Star Wars, Indiana Jones and the Kingdom of th...\n",
      "3      5  Carrie Fisher  Star Wars, The Empire Strikes Back, Return of ...\n",
      "4      1  Peter Cushing                                          Star Wars\n"
     ]
    }
   ],
   "source": [
    "df_cast_credits_by_name_for_film_without_patreon = groupCredits(df_cast_credits_without_patreon_by_external, \"FILM\", \"FILMNAME\")\n",
    "print(df_cast_credits_by_name_for_film_without_patreon.head())"
   ]
  },
  {
   "cell_type": "code",
   "execution_count": 10,
   "metadata": {},
   "outputs": [
    {
     "name": "stdout",
     "output_type": "stream",
     "text": [
      "   count           name                                              names\n",
      "0      1   George Lucas                                          Star Wars\n",
      "1      1    Mark Hamill                                          Star Wars\n",
      "2      3  Harrison Ford  Pod-19: The Widowcaster, Pod Me If You Cast, S...\n",
      "3      1  Carrie Fisher                                          Star Wars\n",
      "4      1  Peter Cushing                                          Star Wars\n"
     ]
    }
   ],
   "source": [
    "df_cast_credits_by_name_for_miniseries_without_patreon = groupCredits(df_cast_credits_without_patreon_by_external, \"MINISERIES\", \"MINISERIESNAME\")\n",
    "print(df_cast_credits_by_name_for_miniseries_without_patreon.head())"
   ]
  },
  {
   "cell_type": "code",
   "execution_count": 11,
   "metadata": {
    "scrolled": true
   },
   "outputs": [
    {
     "name": "stdout",
     "output_type": "stream",
     "text": [
      "23: Stan Lee\n",
      "The Incredible Hulk, Iron Man, Captain America: The First Avenger, Hulk, Fantastic Four: Rise of the Silver Surfer, Fantastic Four, Iron Man 2, Thor, The Avengers, Iron Man 3, Thor: The Dark World, Avengers: Age of Ultron, Captain America: The Winter Soldier, Ant-Man, Guardians of the Galaxy, Captain America: Civil War, Guardians of the Galaxy Vol. 2, Doctor Strange, Thor: Ragnarok, Black Panther, Avengers: Infinity War, Spider-Man: Homecoming, Ant-Man and the Wasp\n",
      "========================================\n",
      "16: Samuel L. Jackson\n",
      "Iron Man, Captain America: The First Avenger, Star Wars: Episode I - The Phantom Menace, Star Wars: Episode II - Attack of the Clones, Star Wars: Episode III - Revenge of the Sith, Unbreakable, The Incredibles, Iron Man 2, Thor, The Avengers, Avengers: Age of Ultron, Captain America: The Winter Soldier, Incredibles 2, Miss Peregrine's Home for Peculiar Children, Avengers: Infinity War, Glass\n",
      "========================================\n",
      "11: Chris Evans\n",
      "Captain America: The First Avenger, Fantastic Four: Rise of the Silver Surfer, Fantastic Four, The Avengers, Thor: The Dark World, Avengers: Age of Ultron, Captain America: The Winter Soldier, Ant-Man, Captain America: Civil War, Avengers: Infinity War, Spider-Man: Homecoming\n",
      "========================================\n",
      "11: Anthony Daniels\n",
      "Star Wars, The Empire Strikes Back, Return of the Jedi, Star Wars: Episode I - The Phantom Menace, Star Wars: Episode II - Attack of the Clones, Star Wars: Episode III - Revenge of the Sith, Star Wars: The Force Awakens, Star Wars: The Last Jedi, Rogue One: A Star Wars Story, Solo: A Star Wars Story, Ralph Breaks the Internet\n",
      "========================================\n",
      "11: M. Night Shyamalan\n",
      "The Sixth Sense, Signs, The Village, The Happening, Lady in the Water, Unbreakable, The Last Airbender, The Buried Secret of M. Night Shyamalan, Praying with Anger, Split, Glass\n",
      "========================================\n",
      "10: Robert Downey Jr.\n",
      "The Incredible Hulk, Iron Man, Iron Man 2, The Avengers, Iron Man 3, Avengers: Age of Ultron, The Judge, Captain America: Civil War, Avengers: Infinity War, Spider-Man: Homecoming\n",
      "========================================\n",
      "9: Johnny Depp\n",
      "Charlie and the Chocolate Factory, Edward Scissorhands, Ed Wood, Sleepy Hollow, Corpse Bride, Public Enemies, Alice in Wonderland, Sweeney Todd: The Demon Barber of Fleet Street, Dark Shadows\n",
      "========================================\n",
      "8: Chris Hemsworth\n",
      "Thor, The Avengers, Thor: The Dark World, Avengers: Age of Ultron, Blackhat, Doctor Strange, Thor: Ragnarok, Avengers: Infinity War\n",
      "========================================\n",
      "8: Paul Bettany\n",
      "Iron Man, Iron Man 2, The Avengers, Iron Man 3, Avengers: Age of Ultron, Captain America: Civil War, Avengers: Infinity War, Solo: A Star Wars Story\n",
      "========================================\n",
      "8: Tom Cruise\n",
      "War of the Worlds, Minority Report, Collateral, Vanilla Sky, Jerry Maguire, Mission: Impossible - Ghost Protocol, Jack Reacher, Jack Reacher: Never Go Back\n",
      "========================================\n",
      "8: Scarlett Johansson\n",
      "The Prestige, Iron Man 2, The Avengers, We Bought a Zoo, Avengers: Age of Ultron, Captain America: The Winter Soldier, Captain America: Civil War, Avengers: Infinity War\n",
      "========================================\n",
      "7: Mark Ruffalo\n",
      "Collateral, Ride with the Devil, The Avengers, Iron Man 3, Avengers: Age of Ultron, Thor: Ragnarok, Avengers: Infinity War\n",
      "========================================\n",
      "7: Christopher Lee\n",
      "Charlie and the Chocolate Factory, Star Wars: Episode II - Attack of the Clones, Star Wars: Episode III - Revenge of the Sith, Sleepy Hollow, Corpse Bride, Alice in Wonderland, Dark Shadows\n",
      "========================================\n",
      "7: Helena Bonham Carter\n",
      "Charlie and the Chocolate Factory, Big Fish, Planet of the Apes, Corpse Bride, Alice in Wonderland, Sweeney Todd: The Demon Barber of Fleet Street, Dark Shadows\n",
      "========================================\n",
      "7: Kenny Baker\n",
      "Star Wars, The Empire Strikes Back, Return of the Jedi, Star Wars: Episode I - The Phantom Menace, Star Wars: Episode II - Attack of the Clones, Star Wars: Episode III - Revenge of the Sith, Star Wars: The Force Awakens\n",
      "========================================\n",
      "7: Frank Oz\n",
      "The Empire Strikes Back, Return of the Jedi, Star Wars: Episode I - The Phantom Menace, Star Wars: Episode II - Attack of the Clones, Star Wars: Episode III - Revenge of the Sith, Star Wars: The Force Awakens, Star Wars: The Last Jedi\n",
      "========================================\n",
      "7: William Hurt\n",
      "A.I. Artificial Intelligence, The Incredible Hulk, Lost in Space, The Village, Broadcast News, Captain America: Civil War, Avengers: Infinity War\n",
      "========================================\n",
      "7: Vin Diesel\n",
      "Saving Private Ryan, The Iron Giant, Guardians of the Galaxy, Guardians of the Galaxy Vol. 2, Billy Lynn's Long Halftime Walk, Avengers: Infinity War, Ralph Breaks the Internet\n",
      "========================================\n",
      "7: Natalie Portman\n",
      "Mars Attacks!, Heat, Star Wars: Episode I - The Phantom Menace, Star Wars: Episode II - Attack of the Clones, Star Wars: Episode III - Revenge of the Sith, Thor, Thor: The Dark World\n",
      "========================================\n",
      "7: Anthony Mackie\n",
      "The Hurt Locker, Avengers: Age of Ultron, Captain America: The Winter Soldier, Ant-Man, Captain America: Civil War, Avengers: Infinity War, Detroit\n",
      "========================================\n"
     ]
    }
   ],
   "source": [
    "for castMemberRow in df_cast_credits_by_name_for_film.sort_values('count', ascending=False).head(20).itertuples():\n",
    "    print(str(castMemberRow[1]) + \": \" + str(castMemberRow[2]))\n",
    "    print(castMemberRow[3])\n",
    "    print('========================================')"
   ]
  },
  {
   "cell_type": "code",
   "execution_count": 12,
   "metadata": {},
   "outputs": [
    {
     "name": "stdout",
     "output_type": "stream",
     "text": [
      "5: Tom Kenny\n",
      "Podward Scissorcast, MCU Commentaries, Pod Me If You Cast, Hotel Transylvania Trilogy, Podchowski Casters\n",
      "========================================\n",
      "5: Tom Cruise\n",
      "The Podcastibles, We Pod A Cast, Jack Reacher: Never Go Back, Michael Mann Miniseries, Pod Me If You Cast\n",
      "========================================\n",
      "5: Anne Hathaway\n",
      "Podward Scissorcast, The Devil Wears Prada, Podback Mountcast, Something's Podda Cast, The Pod Knight Casts\n",
      "========================================\n",
      "5: Samuel L. Jackson\n",
      "The Podcastibles, Podward Scissorcast, MCU Commentaries, Pod Night Shyamacast, Star Wars\n",
      "========================================\n",
      "5: Judy Greer\n",
      "The Podcastibles, We Pod A Cast, MCU Commentaries, Something's Podda Cast, Pod Night Shyamacast\n",
      "========================================\n",
      "5: William Hurt\n",
      "Podcast News, Lost in Space, MCU Commentaries, Pod Night Shyamacast, Pod Me If You Cast\n",
      "========================================\n",
      "5: Kathryn Hahn\n",
      "The Podcastibles, Podcast News, Something's Podda Cast, Pod Night Shyamacast, Hotel Transylvania Trilogy\n",
      "========================================\n",
      "5: Vin Diesel\n",
      "The Podcastibles, Podback Mountcast, MCU Commentaries, Ralph Breaks the Internet, Pod Me If You Cast\n",
      "========================================\n",
      "4: Dean Norris\n",
      "The Book of Henry, Podcast News, Podinator: Judgment Cast, Podship Casters\n",
      "========================================\n",
      "4: Laurence Fishburne\n",
      "PodDCEU Cast, The Podcastic Two, MCU Commentaries, Podchowski Casters\n",
      "========================================\n",
      "4: Alec Baldwin\n",
      "Podward Scissorcast, We Pod A Cast, Something's Podda Cast, A Star Is Born\n",
      "========================================\n",
      "4: Ciarán Hinds\n",
      "Pod-19: The Widowcaster, PodDCEU Cast, Michael Mann Miniseries, Pod Me If You Cast\n",
      "========================================\n",
      "4: Jeremy Strong\n",
      "Pod-19: The Widowcaster, Judging the Judge, Pod Night Shyamacast, Pod Me If You Cast\n",
      "========================================\n",
      "4: Matt Damon\n",
      "We Pod A Cast, MCU Commentaries, The Pod Knight Casts, Pod Me If You Cast\n",
      "========================================\n",
      "4: Maurice LaMarche\n",
      "Podcast News, Podward Scissorcast, Ralph Breaks the Internet, Space Jam\n",
      "========================================\n",
      "4: Will Smith\n",
      "PodDCEU Cast, Podback Mountcast, Michael Mann Miniseries, Pod Night Shyamacast\n",
      "========================================\n",
      "4: Paul Giamatti\n",
      "Podward Scissorcast, We Pod A Cast, Pod Night Shyamacast, Pod Me If You Cast\n",
      "========================================\n",
      "4: Bill Camp\n",
      "We Pod A Cast, Joker, Michael Mann Miniseries, Pod Me If You Cast\n",
      "========================================\n",
      "4: Spencer Wilding\n",
      "MCU Commentaries, The Pod Knight Casts, Star Wars, Podchowski Casters\n",
      "========================================\n",
      "4: Andy Serkis\n",
      "MCU Commentaries, The Pod Knight Casts, Pod Me If You Cast, Star Wars\n",
      "========================================\n"
     ]
    }
   ],
   "source": [
    "for castMemberRow in df_cast_credits_by_name_for_miniseries.sort_values('count', ascending=False).head(20).itertuples():\n",
    "    print(str(castMemberRow[1]) + \": \" + str(castMemberRow[2]))\n",
    "    print(castMemberRow[3])\n",
    "    print('========================================')"
   ]
  },
  {
   "cell_type": "code",
   "execution_count": 13,
   "metadata": {},
   "outputs": [
    {
     "name": "stdout",
     "output_type": "stream",
     "text": [
      "11: M. Night Shyamalan\n",
      "The Sixth Sense, Signs, The Village, The Happening, Lady in the Water, Unbreakable, The Last Airbender, The Buried Secret of M. Night Shyamalan, Praying with Anger, Split, Glass\n",
      "========================================\n",
      "11: Anthony Daniels\n",
      "Star Wars, The Empire Strikes Back, Return of the Jedi, Star Wars: Episode I - The Phantom Menace, Star Wars: Episode II - Attack of the Clones, Star Wars: Episode III - Revenge of the Sith, Star Wars: The Force Awakens, Star Wars: The Last Jedi, Rogue One: A Star Wars Story, Solo: A Star Wars Story, Ralph Breaks the Internet\n",
      "========================================\n",
      "8: Johnny Depp\n",
      "Charlie and the Chocolate Factory, Edward Scissorhands, Ed Wood, Sleepy Hollow, Public Enemies, Alice in Wonderland, Sweeney Todd: The Demon Barber of Fleet Street, Dark Shadows\n",
      "========================================\n",
      "8: Tom Cruise\n",
      "War of the Worlds, Minority Report, Collateral, Vanilla Sky, Jerry Maguire, Mission: Impossible - Ghost Protocol, Jack Reacher, Jack Reacher: Never Go Back\n",
      "========================================\n",
      "8: Samuel L. Jackson\n",
      "Star Wars: Episode I - The Phantom Menace, Star Wars: Episode II - Attack of the Clones, Star Wars: Episode III - Revenge of the Sith, Unbreakable, The Incredibles, Incredibles 2, Miss Peregrine's Home for Peculiar Children, Glass\n",
      "========================================\n",
      "7: Michael Caine\n",
      "The Dark Knight, Batman Begins, The Prestige, Inception, The Dark Knight Rises, Interstellar, Dunkirk\n",
      "========================================\n",
      "7: Jack Nicholson\n",
      "Mars Attacks!, Batman, As Good as It Gets, Something's Gotta Give, Terms of Endearment, Broadcast News, How Do You Know\n",
      "========================================\n",
      "7: Frank Oz\n",
      "The Empire Strikes Back, Return of the Jedi, Star Wars: Episode I - The Phantom Menace, Star Wars: Episode II - Attack of the Clones, Star Wars: Episode III - Revenge of the Sith, Star Wars: The Force Awakens, Star Wars: The Last Jedi\n",
      "========================================\n",
      "7: Kenny Baker\n",
      "Star Wars, The Empire Strikes Back, Return of the Jedi, Star Wars: Episode I - The Phantom Menace, Star Wars: Episode II - Attack of the Clones, Star Wars: Episode III - Revenge of the Sith, Star Wars: The Force Awakens\n",
      "========================================\n",
      "6: Bill Paxton\n",
      "The Terminator, Titanic, Aliens, Near Dark, Ghosts of the Abyss, True Lies\n",
      "========================================\n",
      "6: Warwick Davis\n",
      "Return of the Jedi, Star Wars: Episode I - The Phantom Menace, Star Wars: The Force Awakens, Star Wars: The Last Jedi, Rogue One: A Star Wars Story, Solo: A Star Wars Story\n",
      "========================================\n",
      "6: Christopher Lee\n",
      "Charlie and the Chocolate Factory, Star Wars: Episode II - Attack of the Clones, Star Wars: Episode III - Revenge of the Sith, Sleepy Hollow, Alice in Wonderland, Dark Shadows\n",
      "========================================\n",
      "6: Keanu Reeves\n",
      "The Matrix, The Matrix Reloaded, The Matrix Revolutions, Point Break, Something's Gotta Give, The Animatrix\n",
      "========================================\n",
      "6: Anne Hathaway\n",
      "Brokeback Mountain, The Devil Wears Prada, Alice in Wonderland, The Dark Knight Rises, Interstellar, The Intern\n",
      "========================================\n",
      "6: Helena Bonham Carter\n",
      "Charlie and the Chocolate Factory, Big Fish, Planet of the Apes, Alice in Wonderland, Sweeney Todd: The Demon Barber of Fleet Street, Dark Shadows\n",
      "========================================\n",
      "6: Peter Mayhew\n",
      "Star Wars, The Empire Strikes Back, Return of the Jedi, Star Wars: Episode III - Revenge of the Sith, Star Wars: The Force Awakens, Star Wars: The Last Jedi\n",
      "========================================\n",
      "6: Tom Hanks\n",
      "The Terminal, Catch Me If You Can, Saving Private Ryan, Cloud Atlas, Bridge of Spies, The Post\n",
      "========================================\n",
      "6: Danny DeVito\n",
      "Mars Attacks!, Batman Returns, Big Fish, Space Jam, Terms of Endearment, Dumbo\n",
      "========================================\n",
      "6: Harrison Ford\n",
      "Star Wars, Indiana Jones and the Kingdom of the Crystal Skull, The Empire Strikes Back, Return of the Jedi, K-19: The Widowmaker, Star Wars: The Force Awakens\n",
      "========================================\n",
      "5: Natalie Portman\n",
      "Mars Attacks!, Heat, Star Wars: Episode I - The Phantom Menace, Star Wars: Episode II - Attack of the Clones, Star Wars: Episode III - Revenge of the Sith\n",
      "========================================\n"
     ]
    }
   ],
   "source": [
    "for castMemberRow in df_cast_credits_by_name_for_film_without_patreon.sort_values('count', ascending=False).head(20).itertuples():\n",
    "    print(str(castMemberRow[1]) + \": \" + str(castMemberRow[2]))\n",
    "    print(castMemberRow[3])\n",
    "    print('========================================')"
   ]
  },
  {
   "cell_type": "code",
   "execution_count": 14,
   "metadata": {},
   "outputs": [
    {
     "name": "stdout",
     "output_type": "stream",
     "text": [
      "5: Anne Hathaway\n",
      "Podward Scissorcast, The Devil Wears Prada, Podback Mountcast, Something's Podda Cast, The Pod Knight Casts\n",
      "========================================\n",
      "5: Kathryn Hahn\n",
      "The Podcastibles, Podcast News, Something's Podda Cast, Pod Night Shyamacast, Hotel Transylvania Trilogy\n",
      "========================================\n",
      "5: Tom Cruise\n",
      "The Podcastibles, We Pod A Cast, Jack Reacher: Never Go Back, Michael Mann Miniseries, Pod Me If You Cast\n",
      "========================================\n",
      "4: Maurice LaMarche\n",
      "Podcast News, Podward Scissorcast, Ralph Breaks the Internet, Space Jam\n",
      "========================================\n",
      "4: Jeremy Strong\n",
      "Pod-19: The Widowcaster, Judging the Judge, Pod Night Shyamacast, Pod Me If You Cast\n",
      "========================================\n",
      "4: Ciarán Hinds\n",
      "Pod-19: The Widowcaster, PodDCEU Cast, Michael Mann Miniseries, Pod Me If You Cast\n",
      "========================================\n",
      "4: Dean Norris\n",
      "The Book of Henry, Podcast News, Podinator: Judgment Cast, Podship Casters\n",
      "========================================\n",
      "4: William Hurt\n",
      "Podcast News, Lost in Space, Pod Night Shyamacast, Pod Me If You Cast\n",
      "========================================\n",
      "4: Judy Greer\n",
      "The Podcastibles, We Pod A Cast, Something's Podda Cast, Pod Night Shyamacast\n",
      "========================================\n",
      "4: Marion Cotillard\n",
      "Assassin's Creed, Podward Scissorcast, Michael Mann Miniseries, The Pod Knight Casts\n",
      "========================================\n",
      "4: Samuel L. Jackson\n",
      "The Podcastibles, Podward Scissorcast, Pod Night Shyamacast, Star Wars\n",
      "========================================\n",
      "4: Billy Crudup\n",
      "Podward Scissorcast, We Pod A Cast, PodDCEU Cast, Michael Mann Miniseries\n",
      "========================================\n",
      "4: Alec Baldwin\n",
      "Podward Scissorcast, We Pod A Cast, Something's Podda Cast, A Star Is Born\n",
      "========================================\n",
      "4: Paul Giamatti\n",
      "Podward Scissorcast, We Pod A Cast, Pod Night Shyamacast, Pod Me If You Cast\n",
      "========================================\n",
      "4: Will Smith\n",
      "PodDCEU Cast, Podback Mountcast, Michael Mann Miniseries, Pod Night Shyamacast\n",
      "========================================\n",
      "4: Vin Diesel\n",
      "The Podcastibles, Podback Mountcast, Ralph Breaks the Internet, Pod Me If You Cast\n",
      "========================================\n",
      "4: Bill Murray\n",
      "Podward Scissorcast, We Pod A Cast, The Man Who Knew Too Little, Space Jam\n",
      "========================================\n",
      "4: Bill Camp\n",
      "We Pod A Cast, Joker, Michael Mann Miniseries, Pod Me If You Cast\n",
      "========================================\n",
      "3: Michael Giacchino\n",
      "The Podcastibles, Ralph Breaks the Internet, Star Wars\n",
      "========================================\n",
      "3: Jack Nicholson\n",
      "Podcast News, Podward Scissorcast, Something's Podda Cast\n",
      "========================================\n"
     ]
    }
   ],
   "source": [
    "for castMemberRow in df_cast_credits_by_name_for_miniseries_without_patreon.sort_values('count', ascending=False).head(20).itertuples():\n",
    "    print(str(castMemberRow[1]) + \": \" + str(castMemberRow[2]))\n",
    "    print(castMemberRow[3])\n",
    "    print('========================================')"
   ]
  },
  {
   "cell_type": "code",
   "execution_count": null,
   "metadata": {},
   "outputs": [],
   "source": []
  }
 ],
 "metadata": {
  "kernelspec": {
   "display_name": "Python 3",
   "language": "python",
   "name": "python3"
  },
  "language_info": {
   "codemirror_mode": {
    "name": "ipython",
    "version": 3
   },
   "file_extension": ".py",
   "mimetype": "text/x-python",
   "name": "python",
   "nbconvert_exporter": "python",
   "pygments_lexer": "ipython3",
   "version": "3.7.3"
  }
 },
 "nbformat": 4,
 "nbformat_minor": 2
}
