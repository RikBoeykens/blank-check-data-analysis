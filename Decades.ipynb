{
 "cells": [
  {
   "cell_type": "code",
   "execution_count": 1,
   "metadata": {},
   "outputs": [],
   "source": [
    "import pandas as pd\n",
    "import numpy as np\n",
    "import matplotlib.pyplot as plt\n",
    "from datetime import datetime\n",
    "from collections import Counter"
   ]
  },
  {
   "cell_type": "code",
   "execution_count": 2,
   "metadata": {},
   "outputs": [],
   "source": [
    "xl = pd.read_excel('blank-check-data.xlsx', sheet_name=None, index_col='CODE')\n",
    "df_miniseries = xl['MINISERIES']\n",
    "df_films = xl['FILMS']"
   ]
  },
  {
   "cell_type": "code",
   "execution_count": 3,
   "metadata": {},
   "outputs": [
    {
     "name": "stdout",
     "output_type": "stream",
     "text": [
      "                                                NAME     MINISERIES  PATREON  \\\n",
      "CODE                                                                           \n",
      "1893       Star Wars: Episode I - The Phantom Menace       STARWARS    False   \n",
      "205587                                     The Judge          JUDGE    False   \n",
      "1894    Star Wars: Episode II - Attack of the Clones       STARWARS    False   \n",
      "22059                             The Fantastic Four  FANTASTICFOUR    False   \n",
      "9738                                  Fantastic Four  FANTASTICFOUR    False   \n",
      "\n",
      "        NONDIRECTOR RELEASEDATE     BUDGET    REVENUE  RUNTIME  \\\n",
      "CODE                                                             \n",
      "1893            NaN  1999-05-19  115000000  924317558      136   \n",
      "205587          NaN  2014-10-08   50000000   83719388      141   \n",
      "1894            NaN  2002-05-15  120000000  649398328      142   \n",
      "22059           NaN  1994-01-01    1500000          0       90   \n",
      "9738            NaN  2005-06-29  100000000  330579719      106   \n",
      "\n",
      "           MINISERIESNAME  DECADE  \n",
      "CODE                               \n",
      "1893            Star Wars    1990  \n",
      "205587  Judging the Judge    2010  \n",
      "1894            Star Wars    2000  \n",
      "22059   The Podcastic Two    1990  \n",
      "9738    The Podcastic Two    2000  \n"
     ]
    }
   ],
   "source": [
    "df_films['DECADE'] = [((datetime.strptime(releaseDate, \"%Y-%m-%d\").year//10)*10) for releaseDate in df_films['RELEASEDATE']]\n",
    "print(df_films.head())"
   ]
  },
  {
   "cell_type": "code",
   "execution_count": 4,
   "metadata": {},
   "outputs": [
    {
     "data": {
      "image/png": "[encoded data removed]",
      "text/plain": [
       "<Figure size 432x288 with 1 Axes>"
      ]
     },
     "metadata": {
      "needs_background": "light"
     },
     "output_type": "display_data"
    }
   ],
   "source": [
    "df_films.plot(kind='hist', y='DECADE')\n",
    "plt.show()"
   ]
  },
  {
   "cell_type": "code",
   "execution_count": null,
   "metadata": {},
   "outputs": [],
   "source": []
  }
 ],
 "metadata": {
  "kernelspec": {
   "display_name": "Python 3",
   "language": "python",
   "name": "python3"
  },
  "language_info": {
   "codemirror_mode": {
    "name": "ipython",
    "version": 3
   },
   "file_extension": ".py",
   "mimetype": "text/x-python",
   "name": "python",
   "nbconvert_exporter": "python",
   "pygments_lexer": "ipython3",
   "version": "3.7.3"
  }
 },
 "nbformat": 4,
 "nbformat_minor": 2
}
